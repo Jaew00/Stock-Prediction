{
  "cells": [
    {
      "cell_type": "markdown",
      "metadata": {
        "id": "view-in-github",
        "colab_type": "text"
      },
      "source": [
        "<a href=\"https://colab.research.google.com/github/Jaew00/DeepLearning/blob/main/stock_pattern_recognition.ipynb\" target=\"_parent\"><img src=\"https://colab.research.google.com/assets/colab-badge.svg\" alt=\"Open In Colab\"/></a>"
      ]
    },
    {
      "cell_type": "code",
      "source": [
        "from google.colab import drive\n",
        "drive.mount('/content/drive')"
      ],
      "metadata": {
        "colab": {
          "base_uri": "https://localhost:8080/"
        },
        "id": "oDLEkZ1viZrD",
        "outputId": "f98325cc-eab7-4544-b824-ce8dc0b8c11b"
      },
      "id": "oDLEkZ1viZrD",
      "execution_count": null,
      "outputs": [
        {
          "output_type": "stream",
          "name": "stdout",
          "text": [
            "Mounted at /content/drive\n"
          ]
        }
      ]
    },
    {
      "cell_type": "code",
      "execution_count": null,
      "id": "5784b8a4",
      "metadata": {
        "id": "5784b8a4"
      },
      "outputs": [],
      "source": [
        "import torch\n",
        "import torch.nn as nn\n",
        "import torch.nn.functional as f\n",
        "from torch import optim\n",
        "from torch.optim.lr_scheduler import StepLR\n",
        "from torchvision import utils\n",
        "import matplotlib.pyplot as plt\n",
        "from torch.autograd import Variable\n",
        "from torch.optim import lr_scheduler\n",
        "import glob\n",
        "%matplotlib inline\n",
        "\n",
        "import numpy as np\n",
        "from torchvision import transforms \n",
        "from PIL import Image \n",
        "from torch.utils.data import Dataset, DataLoader \n",
        "import pandas as pd\n",
        "import os"
      ]
    },
    {
      "cell_type": "code",
      "execution_count": null,
      "id": "c7c9475a",
      "metadata": {
        "id": "c7c9475a"
      },
      "outputs": [],
      "source": [
        "def ComputeAccr(dloader, imodel):\n",
        "  correct = 0\n",
        "  total = 0\n",
        "\n",
        "  with torch.no_grad() :\n",
        "    for j, [imgs, labels] in enumerate(dloader) : # batch_size 만큼\n",
        "      img = Variable(imgs, volatile = True).to(device) \n",
        "      label = Variable(labels).to(device)\n",
        "\n",
        "      output = imodel.forward(img)\n",
        "      _, output_index = torch.max(output, 1)\n",
        "\n",
        "      total += label.size(0)\n",
        "      correct += (output_index == label).sum().float()\n",
        "\n",
        "  acc = 100*correct/total\n",
        "  acc = float(acc.cpu().numpy())\n",
        "  print(\"Accuracy of Test Data: {}\".format(acc))\n",
        "  return acc"
      ]
    },
    {
      "cell_type": "code",
      "source": [
        "df = pd.read_csv('/content/drive/MyDrive/Colab Notebooks/btc_label.csv')\n",
        "df"
      ],
      "metadata": {
        "colab": {
          "base_uri": "https://localhost:8080/",
          "height": 424
        },
        "id": "Df-Qwv9ylDxp",
        "outputId": "a610e266-3007-4dd6-905a-66281f852338"
      },
      "id": "Df-Qwv9ylDxp",
      "execution_count": null,
      "outputs": [
        {
          "output_type": "execute_result",
          "data": {
            "text/plain": [
              "           Date     Price      Open      High       Low  Change  cal  Label  \\\n",
              "0     2017.9.26   4320000   4319000   4420000   4306000   0.000    1      2   \n",
              "1     2017.9.27   4654000   4320000   4680000   4313000   0.077    2      0   \n",
              "2     2017.9.28   4592000   4654000   4791000   4518000  -0.013    0      2   \n",
              "3     2017.9.29   4658000   4592000   4710000   4478000   0.014    2      2   \n",
              "4     2017.9.30   4891000   4658000   4898000   4654000   0.050    2      2   \n",
              "...         ...       ...       ...       ...       ...     ...  ...    ...   \n",
              "1672  2022.4.25  50633000  49617000  50897000  48560000   0.020    2      0   \n",
              "1673  2022.4.26  48710000  50623000  51147000  48202000  -0.038    0      2   \n",
              "1674  2022.4.27  49918000  48720000  50067000  48570000   0.025    2      2   \n",
              "1675  2022.4.28  50549000  49915000  51169000  49667000   0.013    2      0   \n",
              "1676  2022.4.29  49715000  50543000  50712000  49400000  -0.017    0      2   \n",
              "\n",
              "      label  \n",
              "0         1  \n",
              "1         0  \n",
              "2         1  \n",
              "3         1  \n",
              "4         1  \n",
              "...     ...  \n",
              "1672      0  \n",
              "1673      1  \n",
              "1674      1  \n",
              "1675      0  \n",
              "1676      1  \n",
              "\n",
              "[1677 rows x 9 columns]"
            ],
            "text/html": [
              "\n",
              "  <div id=\"df-f1c2fd43-3a0a-4fd9-9478-9bbef47ac9a4\">\n",
              "    <div class=\"colab-df-container\">\n",
              "      <div>\n",
              "<style scoped>\n",
              "    .dataframe tbody tr th:only-of-type {\n",
              "        vertical-align: middle;\n",
              "    }\n",
              "\n",
              "    .dataframe tbody tr th {\n",
              "        vertical-align: top;\n",
              "    }\n",
              "\n",
              "    .dataframe thead th {\n",
              "        text-align: right;\n",
              "    }\n",
              "</style>\n",
              "<table border=\"1\" class=\"dataframe\">\n",
              "  <thead>\n",
              "    <tr style=\"text-align: right;\">\n",
              "      <th></th>\n",
              "      <th>Date</th>\n",
              "      <th>Price</th>\n",
              "      <th>Open</th>\n",
              "      <th>High</th>\n",
              "      <th>Low</th>\n",
              "      <th>Change</th>\n",
              "      <th>cal</th>\n",
              "      <th>Label</th>\n",
              "      <th>label</th>\n",
              "    </tr>\n",
              "  </thead>\n",
              "  <tbody>\n",
              "    <tr>\n",
              "      <th>0</th>\n",
              "      <td>2017.9.26</td>\n",
              "      <td>4320000</td>\n",
              "      <td>4319000</td>\n",
              "      <td>4420000</td>\n",
              "      <td>4306000</td>\n",
              "      <td>0.000</td>\n",
              "      <td>1</td>\n",
              "      <td>2</td>\n",
              "      <td>1</td>\n",
              "    </tr>\n",
              "    <tr>\n",
              "      <th>1</th>\n",
              "      <td>2017.9.27</td>\n",
              "      <td>4654000</td>\n",
              "      <td>4320000</td>\n",
              "      <td>4680000</td>\n",
              "      <td>4313000</td>\n",
              "      <td>0.077</td>\n",
              "      <td>2</td>\n",
              "      <td>0</td>\n",
              "      <td>0</td>\n",
              "    </tr>\n",
              "    <tr>\n",
              "      <th>2</th>\n",
              "      <td>2017.9.28</td>\n",
              "      <td>4592000</td>\n",
              "      <td>4654000</td>\n",
              "      <td>4791000</td>\n",
              "      <td>4518000</td>\n",
              "      <td>-0.013</td>\n",
              "      <td>0</td>\n",
              "      <td>2</td>\n",
              "      <td>1</td>\n",
              "    </tr>\n",
              "    <tr>\n",
              "      <th>3</th>\n",
              "      <td>2017.9.29</td>\n",
              "      <td>4658000</td>\n",
              "      <td>4592000</td>\n",
              "      <td>4710000</td>\n",
              "      <td>4478000</td>\n",
              "      <td>0.014</td>\n",
              "      <td>2</td>\n",
              "      <td>2</td>\n",
              "      <td>1</td>\n",
              "    </tr>\n",
              "    <tr>\n",
              "      <th>4</th>\n",
              "      <td>2017.9.30</td>\n",
              "      <td>4891000</td>\n",
              "      <td>4658000</td>\n",
              "      <td>4898000</td>\n",
              "      <td>4654000</td>\n",
              "      <td>0.050</td>\n",
              "      <td>2</td>\n",
              "      <td>2</td>\n",
              "      <td>1</td>\n",
              "    </tr>\n",
              "    <tr>\n",
              "      <th>...</th>\n",
              "      <td>...</td>\n",
              "      <td>...</td>\n",
              "      <td>...</td>\n",
              "      <td>...</td>\n",
              "      <td>...</td>\n",
              "      <td>...</td>\n",
              "      <td>...</td>\n",
              "      <td>...</td>\n",
              "      <td>...</td>\n",
              "    </tr>\n",
              "    <tr>\n",
              "      <th>1672</th>\n",
              "      <td>2022.4.25</td>\n",
              "      <td>50633000</td>\n",
              "      <td>49617000</td>\n",
              "      <td>50897000</td>\n",
              "      <td>48560000</td>\n",
              "      <td>0.020</td>\n",
              "      <td>2</td>\n",
              "      <td>0</td>\n",
              "      <td>0</td>\n",
              "    </tr>\n",
              "    <tr>\n",
              "      <th>1673</th>\n",
              "      <td>2022.4.26</td>\n",
              "      <td>48710000</td>\n",
              "      <td>50623000</td>\n",
              "      <td>51147000</td>\n",
              "      <td>48202000</td>\n",
              "      <td>-0.038</td>\n",
              "      <td>0</td>\n",
              "      <td>2</td>\n",
              "      <td>1</td>\n",
              "    </tr>\n",
              "    <tr>\n",
              "      <th>1674</th>\n",
              "      <td>2022.4.27</td>\n",
              "      <td>49918000</td>\n",
              "      <td>48720000</td>\n",
              "      <td>50067000</td>\n",
              "      <td>48570000</td>\n",
              "      <td>0.025</td>\n",
              "      <td>2</td>\n",
              "      <td>2</td>\n",
              "      <td>1</td>\n",
              "    </tr>\n",
              "    <tr>\n",
              "      <th>1675</th>\n",
              "      <td>2022.4.28</td>\n",
              "      <td>50549000</td>\n",
              "      <td>49915000</td>\n",
              "      <td>51169000</td>\n",
              "      <td>49667000</td>\n",
              "      <td>0.013</td>\n",
              "      <td>2</td>\n",
              "      <td>0</td>\n",
              "      <td>0</td>\n",
              "    </tr>\n",
              "    <tr>\n",
              "      <th>1676</th>\n",
              "      <td>2022.4.29</td>\n",
              "      <td>49715000</td>\n",
              "      <td>50543000</td>\n",
              "      <td>50712000</td>\n",
              "      <td>49400000</td>\n",
              "      <td>-0.017</td>\n",
              "      <td>0</td>\n",
              "      <td>2</td>\n",
              "      <td>1</td>\n",
              "    </tr>\n",
              "  </tbody>\n",
              "</table>\n",
              "<p>1677 rows × 9 columns</p>\n",
              "</div>\n",
              "      <button class=\"colab-df-convert\" onclick=\"convertToInteractive('df-f1c2fd43-3a0a-4fd9-9478-9bbef47ac9a4')\"\n",
              "              title=\"Convert this dataframe to an interactive table.\"\n",
              "              style=\"display:none;\">\n",
              "        \n",
              "  <svg xmlns=\"http://www.w3.org/2000/svg\" height=\"24px\"viewBox=\"0 0 24 24\"\n",
              "       width=\"24px\">\n",
              "    <path d=\"M0 0h24v24H0V0z\" fill=\"none\"/>\n",
              "    <path d=\"M18.56 5.44l.94 2.06.94-2.06 2.06-.94-2.06-.94-.94-2.06-.94 2.06-2.06.94zm-11 1L8.5 8.5l.94-2.06 2.06-.94-2.06-.94L8.5 2.5l-.94 2.06-2.06.94zm10 10l.94 2.06.94-2.06 2.06-.94-2.06-.94-.94-2.06-.94 2.06-2.06.94z\"/><path d=\"M17.41 7.96l-1.37-1.37c-.4-.4-.92-.59-1.43-.59-.52 0-1.04.2-1.43.59L10.3 9.45l-7.72 7.72c-.78.78-.78 2.05 0 2.83L4 21.41c.39.39.9.59 1.41.59.51 0 1.02-.2 1.41-.59l7.78-7.78 2.81-2.81c.8-.78.8-2.07 0-2.86zM5.41 20L4 18.59l7.72-7.72 1.47 1.35L5.41 20z\"/>\n",
              "  </svg>\n",
              "      </button>\n",
              "      \n",
              "  <style>\n",
              "    .colab-df-container {\n",
              "      display:flex;\n",
              "      flex-wrap:wrap;\n",
              "      gap: 12px;\n",
              "    }\n",
              "\n",
              "    .colab-df-convert {\n",
              "      background-color: #E8F0FE;\n",
              "      border: none;\n",
              "      border-radius: 50%;\n",
              "      cursor: pointer;\n",
              "      display: none;\n",
              "      fill: #1967D2;\n",
              "      height: 32px;\n",
              "      padding: 0 0 0 0;\n",
              "      width: 32px;\n",
              "    }\n",
              "\n",
              "    .colab-df-convert:hover {\n",
              "      background-color: #E2EBFA;\n",
              "      box-shadow: 0px 1px 2px rgba(60, 64, 67, 0.3), 0px 1px 3px 1px rgba(60, 64, 67, 0.15);\n",
              "      fill: #174EA6;\n",
              "    }\n",
              "\n",
              "    [theme=dark] .colab-df-convert {\n",
              "      background-color: #3B4455;\n",
              "      fill: #D2E3FC;\n",
              "    }\n",
              "\n",
              "    [theme=dark] .colab-df-convert:hover {\n",
              "      background-color: #434B5C;\n",
              "      box-shadow: 0px 1px 3px 1px rgba(0, 0, 0, 0.15);\n",
              "      filter: drop-shadow(0px 1px 2px rgba(0, 0, 0, 0.3));\n",
              "      fill: #FFFFFF;\n",
              "    }\n",
              "  </style>\n",
              "\n",
              "      <script>\n",
              "        const buttonEl =\n",
              "          document.querySelector('#df-f1c2fd43-3a0a-4fd9-9478-9bbef47ac9a4 button.colab-df-convert');\n",
              "        buttonEl.style.display =\n",
              "          google.colab.kernel.accessAllowed ? 'block' : 'none';\n",
              "\n",
              "        async function convertToInteractive(key) {\n",
              "          const element = document.querySelector('#df-f1c2fd43-3a0a-4fd9-9478-9bbef47ac9a4');\n",
              "          const dataTable =\n",
              "            await google.colab.kernel.invokeFunction('convertToInteractive',\n",
              "                                                     [key], {});\n",
              "          if (!dataTable) return;\n",
              "\n",
              "          const docLinkHtml = 'Like what you see? Visit the ' +\n",
              "            '<a target=\"_blank\" href=https://colab.research.google.com/notebooks/data_table.ipynb>data table notebook</a>'\n",
              "            + ' to learn more about interactive tables.';\n",
              "          element.innerHTML = '';\n",
              "          dataTable['output_type'] = 'display_data';\n",
              "          await google.colab.output.renderOutput(dataTable, element);\n",
              "          const docLink = document.createElement('div');\n",
              "          docLink.innerHTML = docLinkHtml;\n",
              "          element.appendChild(docLink);\n",
              "        }\n",
              "      </script>\n",
              "    </div>\n",
              "  </div>\n",
              "  "
            ]
          },
          "metadata": {},
          "execution_count": 4
        }
      ]
    },
    {
      "cell_type": "code",
      "execution_count": null,
      "id": "a429cee8",
      "metadata": {
        "scrolled": true,
        "id": "a429cee8"
      },
      "outputs": [],
      "source": [
        "class Dataset(Dataset): \n",
        "    def __init__(self, path, train=True, transform=None): \n",
        "        df = pd.read_csv('/content/drive/MyDrive/Colab Notebooks/btc_label.csv')\n",
        "        self.path = path \n",
        "        \n",
        "        if train :\n",
        "          self.train_path = path + '/train'\n",
        "          self.train_list = glob.glob(self.train_path + '/*.jpg')\n",
        "          self.img_list = self.train_list\n",
        "        else :  \n",
        "          self.test_path = path + '/test'\n",
        "          self.test_list = glob.glob(self.test_path + '/*.jpg') \n",
        "          self.img_list = self.test_list\n",
        "        \n",
        "        \n",
        "        self.transform = transform \n",
        "        \n",
        "        self.Image_list = []  \n",
        "        for img_path in self.img_list: \n",
        "            self.Image_list.append(Image.open(img_path))\n",
        "        \n",
        "        self.class_list = df['Label']\n",
        "        \n",
        "    def __len__(self): \n",
        "        return len(self.img_list)\n",
        "    \n",
        "    def __getitem__(self, idx): \n",
        "        img = self.Image_list[idx] \n",
        "        label = self.class_list[idx]\n",
        "        \n",
        "        if self.transform is not None: \n",
        "            img = self.transform(img) \n",
        "            \n",
        "        \n",
        "        return img, label \n",
        "\n",
        "if __name__ == \"__main__\": \n",
        "    transform = transforms.Compose([\n",
        "        transforms.Resize(224),\n",
        "        transforms.ToTensor(),\n",
        "        transforms.Normalize((0.5, 0.5, 0.5), (0.5, 0.5, 0.5)),\n",
        "    ]) \n",
        "    \n",
        "    train_ds = Dataset(path='/content/drive/MyDrive/Colab Notebooks/btc_30min_jpg', train=True, transform=transform)\n",
        "    trainloader = DataLoader(dataset=train_ds, batch_size=1, shuffle=True, drop_last=True)\n",
        "    \n",
        "    test_ds = Dataset(path='/content/drive/MyDrive/Colab Notebooks/btc_30min_jpg', train=False, transform=transform)\n",
        "    testloader = DataLoader(dataset=test_ds, batch_size=1, shuffle=False, drop_last=True)\n",
        "     \n"
      ]
    },
    {
      "cell_type": "code",
      "source": [
        "print(len(trainloader),\n",
        "len(testloader))"
      ],
      "metadata": {
        "colab": {
          "base_uri": "https://localhost:8080/"
        },
        "id": "PECfCodWr5VT",
        "outputId": "69f5e126-20ec-4436-80a9-eb348484b3ab"
      },
      "id": "PECfCodWr5VT",
      "execution_count": null,
      "outputs": [
        {
          "output_type": "stream",
          "name": "stdout",
          "text": [
            "1000 677\n"
          ]
        }
      ]
    },
    {
      "cell_type": "code",
      "execution_count": null,
      "id": "061c094f",
      "metadata": {
        "colab": {
          "base_uri": "https://localhost:8080/",
          "height": 287
        },
        "id": "061c094f",
        "outputId": "fb715d71-157d-4a3c-abe9-c86e39157580"
      },
      "outputs": [
        {
          "output_type": "stream",
          "name": "stdout",
          "text": [
            "tensor(1)\n"
          ]
        },
        {
          "output_type": "display_data",
          "data": {
            "text/plain": [
              "<Figure size 432x288 with 1 Axes>"
            ],
            "image/png": "[encoded data removed]"
          },
          "metadata": {
            "needs_background": "light"
          }
        }
      ],
      "source": [
        "import torchvision\n",
        "\n",
        "def imshow(img):\n",
        "    img = img / 2 + 0.5     # unnormalize\n",
        "    npimg = img.numpy()\n",
        "    plt.imshow(np.transpose(npimg, (1, 2, 0)))\n",
        "\n",
        "\n",
        "# get some random training images\n",
        "dataiter = iter(trainloader)\n",
        "images, labels = dataiter.next()\n",
        "\n",
        "# show images\n",
        "imshow(torchvision.utils.make_grid(images))\n",
        "# print labels\n",
        "print(torchvision.utils.make_grid(labels))"
      ]
    },
    {
      "cell_type": "code",
      "execution_count": null,
      "id": "a290eb78",
      "metadata": {
        "id": "a290eb78"
      },
      "outputs": [],
      "source": [
        "def conv_2_block(in_dim,out_dim):\n",
        "    model = nn.Sequential(\n",
        "        nn.Conv2d(in_dim,out_dim,kernel_size=3,padding=1),\n",
        "        nn.ELU(),\n",
        "        nn.Conv2d(out_dim,out_dim,kernel_size=3,padding=1),\n",
        "        nn.ELU(),\n",
        "        nn.MaxPool2d(2,2)\n",
        "    )\n",
        "    return model"
      ]
    },
    {
      "cell_type": "code",
      "execution_count": null,
      "id": "3d6f9469",
      "metadata": {
        "id": "3d6f9469"
      },
      "outputs": [],
      "source": [
        "def conv_3_block(in_dim,out_dim):\n",
        "    model = nn.Sequential(\n",
        "        nn.Conv2d(in_dim,out_dim,kernel_size=3,padding=1),\n",
        "        nn.ELU(),\n",
        "        nn.Conv2d(out_dim,out_dim,kernel_size=3,padding=1),\n",
        "        nn.ELU(),\n",
        "        nn.Conv2d(out_dim,out_dim,kernel_size=3,padding=1),\n",
        "        nn.ELU(),\n",
        "        nn.MaxPool2d(2,2)\n",
        "    )\n",
        "    return model"
      ]
    },
    {
      "cell_type": "code",
      "execution_count": null,
      "id": "da46c0cc",
      "metadata": {
        "id": "da46c0cc"
      },
      "outputs": [],
      "source": [
        "class VGG(nn.Module):\n",
        "    def __init__(self, base_dim, num_classes=3):\n",
        "        super(VGG, self).__init__()\n",
        "        self.feature = nn.Sequential(\n",
        "            conv_2_block(3,base_dim), #64\n",
        "            conv_2_block(base_dim,2*base_dim), #128\n",
        "            conv_3_block(2*base_dim,4*base_dim), #256\n",
        "            conv_3_block(4*base_dim,8*base_dim), #512\n",
        "            conv_3_block(8*base_dim,8*base_dim), #512        \n",
        "        )\n",
        "        self.fc_layer = nn.Sequential(\n",
        "            \n",
        "            nn.Linear(8*base_dim*7*7, 4096),\n",
        "            nn.ELU(),\n",
        "            nn.Dropout(0.5),\n",
        "            nn.Linear(4096, 1000),\n",
        "            nn.ELU(),\n",
        "            nn.Dropout(0.5),\n",
        "            nn.Linear(1000, num_classes),\n",
        "            #nn.Softmax(dim=1),\n",
        "        )\n",
        "\n",
        "    def forward(self, x):\n",
        "        x = self.feature(x)\n",
        "        #print(x.shape)\n",
        "        x = x.view(x.size(0), -1)\n",
        "        #print(x.shape)\n",
        "        x = self.fc_layer(x)\n",
        "        return x"
      ]
    },
    {
      "cell_type": "code",
      "execution_count": null,
      "id": "a5dbdf99",
      "metadata": {
        "id": "a5dbdf99"
      },
      "outputs": [],
      "source": [
        "batch_size = 100\n",
        "learning_rate = 0.001\n",
        "num_epoch = 10"
      ]
    },
    {
      "cell_type": "code",
      "execution_count": null,
      "id": "17d70a32",
      "metadata": {
        "id": "17d70a32"
      },
      "outputs": [],
      "source": [
        "# device 설정\n",
        "device = torch.device(\"cuda:0\" if torch.cuda.is_available() else \"cpu\")\n",
        "\n",
        "# VGG 클래스를 인스턴스화\n",
        "model = VGG(base_dim=64).to(device)\n",
        "\n",
        "# 손실함수 및 최적화함수 설정\n",
        "loss_func = nn.CrossEntropyLoss()\n",
        "optimizer = torch.optim.Adam(model.parameters(), lr=learning_rate)"
      ]
    },
    {
      "cell_type": "code",
      "execution_count": null,
      "id": "74adfc51",
      "metadata": {
        "colab": {
          "base_uri": "https://localhost:8080/",
          "height": 658
        },
        "id": "74adfc51",
        "outputId": "67398845-5b86-442a-caf7-aacaeeb00194"
      },
      "outputs": [
        {
          "output_type": "stream",
          "name": "stdout",
          "text": [
            "0 tensor(1.1034, device='cuda:0', grad_fn=<NllLossBackward0>)\n"
          ]
        },
        {
          "output_type": "stream",
          "name": "stderr",
          "text": [
            "/usr/local/lib/python3.7/dist-packages/ipykernel_launcher.py:7: UserWarning: volatile was removed and now has no effect. Use `with torch.no_grad():` instead.\n",
            "  import sys\n"
          ]
        },
        {
          "output_type": "stream",
          "name": "stdout",
          "text": [
            "Accuracy of Test Data: 34.56425476074219\n",
            "0 tensor(1.4393, device='cuda:0', grad_fn=<NllLossBackward0>)\n",
            "Accuracy of Test Data: 38.10930633544922\n",
            "0 tensor(1.7975, device='cuda:0', grad_fn=<NllLossBackward0>)\n",
            "Accuracy of Test Data: 34.56425476074219\n",
            "0 tensor(0.5242, device='cuda:0', grad_fn=<NllLossBackward0>)\n",
            "Accuracy of Test Data: 27.326438903808594\n",
            "0 tensor(0.4704, device='cuda:0', grad_fn=<NllLossBackward0>)\n",
            "Accuracy of Test Data: 38.10930633544922\n",
            "0 tensor(2.4364, device='cuda:0', grad_fn=<NllLossBackward0>)\n",
            "Accuracy of Test Data: 38.10930633544922\n",
            "0 tensor(22.5484, device='cuda:0', grad_fn=<NllLossBackward0>)\n",
            "Accuracy of Test Data: 38.10930633544922\n",
            "0 tensor(5.8146, device='cuda:0', grad_fn=<NllLossBackward0>)\n",
            "Accuracy of Test Data: 27.326438903808594\n",
            "0 tensor(2.8887, device='cuda:0', grad_fn=<NllLossBackward0>)\n",
            "Accuracy of Test Data: 38.10930633544922\n",
            "0 tensor(8.5170, device='cuda:0', grad_fn=<NllLossBackward0>)\n",
            "Accuracy of Test Data: 38.10930633544922\n"
          ]
        },
        {
          "output_type": "display_data",
          "data": {
            "text/plain": [
              "<Figure size 432x288 with 1 Axes>"
            ],
            "image/png": "[encoded data removed]"
          },
          "metadata": {
            "needs_background": "light"
          }
        }
      ],
      "source": [
        "from torch.utils.tensorboard import SummaryWriter\n",
        "\n",
        "loss_arr = []\n",
        "net_name = '/content/drive/MyDrive/Colab Notebooks/weights/best_weights1.pkl'\n",
        "max_acc = 0\n",
        "\n",
        "with SummaryWriter('runs') as writer :\n",
        "  for i in range(num_epoch):\n",
        "    model = model.train()\n",
        "\n",
        "    for j, [image, label] in enumerate(trainloader):\n",
        "      x=Variable(image).to(device)\n",
        "      y_=Variable(label).to(device)\n",
        "\n",
        "      optimizer.zero_grad()\n",
        "      output=model.forward(x)\n",
        "      loss=loss_func(output,y_)\n",
        "      loss.backward()\n",
        "      optimizer.step()\n",
        "      #scheduler.step()\n",
        "\n",
        "      if j%1000==0:\n",
        "        print(j, loss)\n",
        "        loss_arr.append(loss.cpu().detach().numpy())\n",
        "\n",
        "    #model = torch.load(net_name)\n",
        "    model.eval()\n",
        "    acc = ComputeAccr(testloader, model)\n",
        "    writer.add_scalar('accuracy', acc, num_epoch)\n",
        "\n",
        "    if acc > max_acc :\n",
        "      #print(acc)\n",
        "      max_acc = acc\n",
        "      torch.save(model, net_name)\n",
        "\n",
        "  plt.plot(loss_arr)\n",
        "  plt.show()"
      ]
    },
    {
      "cell_type": "code",
      "source": [
        ""
      ],
      "metadata": {
        "id": "cycmBoOraet5"
      },
      "id": "cycmBoOraet5",
      "execution_count": null,
      "outputs": []
    }
  ],
  "metadata": {
    "kernelspec": {
      "display_name": "Python 3 (ipykernel)",
      "language": "python",
      "name": "python3"
    },
    "language_info": {
      "codemirror_mode": {
        "name": "ipython",
        "version": 3
      },
      "file_extension": ".py",
      "mimetype": "text/x-python",
      "name": "python",
      "nbconvert_exporter": "python",
      "pygments_lexer": "ipython3",
      "version": "3.9.7"
    },
    "colab": {
      "name": "vgg_model.ipynb",
      "provenance": [],
      "collapsed_sections": [],
      "include_colab_link": true
    },
    "accelerator": "GPU"
  },
  "nbformat": 4,
  "nbformat_minor": 5
}
